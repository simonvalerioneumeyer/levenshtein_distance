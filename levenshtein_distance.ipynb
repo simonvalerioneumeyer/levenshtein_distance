{
 "cells": [
  {
   "cell_type": "code",
   "execution_count": 1,
   "metadata": {},
   "outputs": [],
   "source": [
    "import pandas as pd\n",
    "import numpy as np"
   ]
  },
  {
   "cell_type": "code",
   "execution_count": 2,
   "metadata": {
    "code_folding": []
   },
   "outputs": [],
   "source": [
    "class Levenshtein:\n",
    "\n",
    "    def __init__(self):\n",
    "        \"\"\"\n",
    "        The init function here is solely used to read and store the names of the input file\n",
    "        \"\"\"\n",
    "        self.namelist = pd.read_csv('20210103_hundenamen.csv')['HUNDENAME'].values\n",
    "    \n",
    "    \n",
    "    def edit_distance(self, str_1, str_2):\n",
    "        \"\"\"\n",
    "        This module takes as inputs two strings and returns as output the minimum edit (Levenshtein's) distance \n",
    "        between these two strings. The algorithm is a classic dynamic programming algorithm.\n",
    "        \"\"\"\n",
    "        # Initializing a distance matrix with zeros\n",
    "        m = len(str_1)\n",
    "        n = len(str_2)\n",
    "        D = np.zeros([m+1, n+1])\n",
    "\n",
    "        # Setting O-th row\n",
    "        for j in range(n+1):\n",
    "            D[0, j] = j\n",
    "        for i in range(m+1):\n",
    "            D[i, 0] = i\n",
    "\n",
    "        # Recursion\n",
    "        for j in range(1, n+1):\n",
    "            for i in range(1, m+1):\n",
    "                if str_1[i-1] == str_2[j-1]:\n",
    "                    D[i, j] = D[i-1, j-1]\n",
    "                else:\n",
    "                    D[i,j] = min(D[i, j-1], D[i-1, j], D[i-1, j-1]) + 1\n",
    "\n",
    "        return D[m, n]\n",
    "\n",
    "\n",
    "    def test_levenshtein(self):\n",
    "        \"\"\"\n",
    "        This module tests the above coded edit_distance function for correctness.\n",
    "        \"\"\"\n",
    "        # example from youtube video: https://www.youtube.com/watch?v=We3YDTzNXEk&ab_channel=TusharRoy-CodingMadeSimple\n",
    "        assert self.edit_distance('azced', 'abcdef') == 3\n",
    "\n",
    "        # example from wikipedia: https://en.wikipedia.org/wiki/Levenshtein_distance#Example\n",
    "        assert self.edit_distance('kitten', 'sitting') == 3 \n",
    "\n",
    "        # example from https://www.geeksforgeeks.org/edit-distance-dp-5/\n",
    "        assert self.edit_distance('dumbledore', 'voldemort') == 7\n",
    "\n",
    "        print('All tests passed \\n')\n",
    "\n",
    "\n",
    "    def is_dist_1(self, str_1):\n",
    "        \"\"\"\n",
    "        This module takes a string, computes its edit distance to 'Luca' \n",
    "        and returns it only if that distance is equal to 1.\n",
    "        \"\"\"\n",
    "        if self.edit_distance('Luca', str_1) == 1:\n",
    "            return str_1\n",
    "        \n",
    "        \n",
    "    def main(self):\n",
    "\n",
    "        # test the dynamic programming algorithm:\n",
    "        self.test_levenshtein()\n",
    "\n",
    "        # get the names with distance = 1:\n",
    "        names = list(set([x for x in map(self.is_dist_1, self.namelist) if x is not None]))\n",
    "        print(f\"Names with Levenshtein's distance of 1: \\n{names}\")"
   ]
  },
  {
   "cell_type": "code",
   "execution_count": 3,
   "metadata": {},
   "outputs": [
    {
     "name": "stdout",
     "output_type": "stream",
     "text": [
      "All tests passed \n",
      "\n",
      "Names with Levenshtein's distance of 1: \n",
      "['Luma', 'Lupa', 'Lucy', 'Cuca', 'Yuca', 'Lula', 'Lucas', 'Luna', 'Luce', 'Luba', 'Lua', 'Lucia']\n"
     ]
    }
   ],
   "source": [
    "luca = Levenshtein()\n",
    "luca.main()"
   ]
  }
 ],
 "metadata": {
  "kernelspec": {
   "display_name": "Python 3",
   "language": "python",
   "name": "python3"
  },
  "language_info": {
   "codemirror_mode": {
    "name": "ipython",
    "version": 3
   },
   "file_extension": ".py",
   "mimetype": "text/x-python",
   "name": "python",
   "nbconvert_exporter": "python",
   "pygments_lexer": "ipython3",
   "version": "3.7.6"
  },
  "toc": {
   "base_numbering": 1,
   "nav_menu": {},
   "number_sections": true,
   "sideBar": true,
   "skip_h1_title": false,
   "title_cell": "Table of Contents",
   "title_sidebar": "Contents",
   "toc_cell": false,
   "toc_position": {},
   "toc_section_display": true,
   "toc_window_display": false
  }
 },
 "nbformat": 4,
 "nbformat_minor": 4
}
